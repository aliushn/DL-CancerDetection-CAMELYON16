{
 "cells": [
  {
   "cell_type": "markdown",
   "metadata": {
    "colab_type": "text",
    "id": "Mo4WETmo_ZVI"
   },
   "source": [
    "# Install the library and toolboxs"
   ]
  },
  {
   "cell_type": "code",
   "execution_count": 0,
   "metadata": {
    "colab": {},
    "colab_type": "code",
    "id": "umoPuj0VjLFS"
   },
   "outputs": [],
   "source": [
    "import matplotlib.pyplot as plt\n",
    "import numpy as np\n",
    "import os\n",
    "import pickle\n",
    "import random\n",
    "import shutil\n",
    "import numpy as np\n",
    "from PIL import Image\n",
    "from skimage.color import rgb2gray\n",
    "from sklearn.model_selection import train_test_split\n",
    "\n",
    "!pip install ipython-autotime\n",
    "\n",
    "%load_ext autotime\n",
    "%tensorflow_version 2.x\n",
    "import tensorflow as tf\n",
    "from tensorflow import keras\n",
    "# Check GPU\n",
    "!nvidia-smi"
   ]
  },
  {
   "cell_type": "markdown",
   "metadata": {
    "colab_type": "text",
    "id": "Sm2ZmN-wBGHn"
   },
   "source": [
    "# Load preprocessed data from drive and split to training and validation"
   ]
  },
  {
   "cell_type": "code",
   "execution_count": 2,
   "metadata": {
    "colab": {
     "base_uri": "https://localhost:8080/",
     "height": 138
    },
    "colab_type": "code",
    "executionInfo": {
     "elapsed": 182465,
     "status": "ok",
     "timestamp": 1587770332708,
     "user": {
      "displayName": "Long Luu",
      "photoUrl": "",
      "userId": "03414912596698907112"
     },
     "user_tz": 240
    },
    "id": "ML5e6F3rmIz1",
    "outputId": "d2b40081-855a-455f-ded5-014380a34b07"
   },
   "outputs": [
    {
     "name": "stdout",
     "output_type": "stream",
     "text": [
      "Go to this URL in a browser: https://accounts.google.com/o/oauth2/auth?client_id=947318989803-6bn6qk8qdgf4n4g3pfee6491hc0brc4i.apps.googleusercontent.com&redirect_uri=urn%3aietf%3awg%3aoauth%3a2.0%3aoob&response_type=code&scope=email%20https%3a%2f%2fwww.googleapis.com%2fauth%2fdocs.test%20https%3a%2f%2fwww.googleapis.com%2fauth%2fdrive%20https%3a%2f%2fwww.googleapis.com%2fauth%2fdrive.photos.readonly%20https%3a%2f%2fwww.googleapis.com%2fauth%2fpeopleapi.readonly\n",
      "\n",
      "Enter your authorization code:\n",
      "··········\n",
      "Mounted at /content/drive/\n",
      "time: 2min 50s\n"
     ]
    }
   ],
   "source": [
    "# Mount google drive\n",
    "from google.colab import drive\n",
    "drive.mount('/content/drive/')"
   ]
  },
  {
   "cell_type": "code",
   "execution_count": 3,
   "metadata": {
    "colab": {
     "base_uri": "https://localhost:8080/",
     "height": 34
    },
    "colab_type": "code",
    "executionInfo": {
     "elapsed": 27093,
     "status": "ok",
     "timestamp": 1587770359809,
     "user": {
      "displayName": "Long Luu",
      "photoUrl": "",
      "userId": "03414912596698907112"
     },
     "user_tz": 240
    },
    "id": "gYkvXBXeBO46",
    "outputId": "b12a8394-1797-4449-911a-bf3abda8a7d0"
   },
   "outputs": [
    {
     "name": "stdout",
     "output_type": "stream",
     "text": [
      "time: 25.9 s\n"
     ]
    }
   ],
   "source": [
    "# # Load the balanced dataset\n",
    "# level = 3\n",
    "# variable_folder =  \"/content/drive/My Drive/Dataset\"\n",
    "# file_name = \"dataset_preprocessed\" + \"_level\" + str(level) + \"_balanced.pkl\"\n",
    "# with open(os.path.join(variable_folder, file_name), 'rb') as f:\n",
    "#     dataset_patches, dataset_label = pickle.load(f)\n",
    "\n",
    "# OR Load the unbalanced dataset\n",
    "level = 3\n",
    "variable_folder =  \"/content/drive/My Drive/Dataset\"\n",
    "file_name = \"dataset_preprocessed\" + \"_level\" + str(level) + \"_unbalanced.pkl\"\n",
    "with open(os.path.join(variable_folder, file_name), 'rb') as f:\n",
    "    dataset_patches, dataset_label = pickle.load(f)    "
   ]
  },
  {
   "cell_type": "code",
   "execution_count": 4,
   "metadata": {
    "colab": {
     "base_uri": "https://localhost:8080/",
     "height": 34
    },
    "colab_type": "code",
    "executionInfo": {
     "elapsed": 27087,
     "status": "ok",
     "timestamp": 1587770359810,
     "user": {
      "displayName": "Long Luu",
      "photoUrl": "",
      "userId": "03414912596698907112"
     },
     "user_tz": 240
    },
    "id": "P-I2z1o-tKMc",
    "outputId": "1d119c13-b441-453f-ee9c-220a99eebfe6"
   },
   "outputs": [
    {
     "name": "stdout",
     "output_type": "stream",
     "text": [
      "time: 54.5 ms\n"
     ]
    }
   ],
   "source": [
    "# Split and get train data\n",
    "patches_with_tumor = [dataset_patches[ind] for ind in dataset_label if dataset_label[ind]==1]\n",
    "patches_without_tumor = [dataset_patches[ind] for ind in dataset_label if dataset_label[ind]==0]"
   ]
  },
  {
   "cell_type": "code",
   "execution_count": 5,
   "metadata": {
    "colab": {
     "base_uri": "https://localhost:8080/",
     "height": 101
    },
    "colab_type": "code",
    "executionInfo": {
     "elapsed": 31141,
     "status": "ok",
     "timestamp": 1587770363876,
     "user": {
      "displayName": "Long Luu",
      "photoUrl": "",
      "userId": "03414912596698907112"
     },
     "user_tz": 240
    },
    "id": "mNQPUR4tDY4q",
    "outputId": "691f52a0-5ce2-445d-a6d8-8ce2aab6a16a"
   },
   "outputs": [
    {
     "name": "stdout",
     "output_type": "stream",
     "text": [
      "Size of the train set: 347503\n",
      "Size of the validation set: 86876\n",
      "Size of the train data sample: (32, 32, 3)\n",
      "Size of the validation data sample: (32, 32, 3)\n",
      "time: 3.98 s\n"
     ]
    }
   ],
   "source": [
    "# Split train and validation set\n",
    "X_train, X_val, y_train, y_val = train_test_split(\n",
    "...     dataset_patches, dataset_label, test_size=0.2, random_state=42)\n",
    "X_train = (np.array(X_train).astype('float32') / 255.) * 2.0 - 1\n",
    "X_val = (np.array(X_val).astype('float32') / 255.) * 2.0 - 1.0\n",
    "\n",
    "# Check the split\n",
    "print(\"Size of the train set: {:d}\".format(len(y_train)))\n",
    "print(\"Size of the validation set: {:d}\".format(len(y_val)))\n",
    "print(\"Size of the train data sample: \" + str(X_train[0].shape))\n",
    "print(\"Size of the validation data sample: \" + str(X_val[0].shape))\n"
   ]
  },
  {
   "cell_type": "markdown",
   "metadata": {
    "colab_type": "text",
    "id": "pIj6DAuMNOtK"
   },
   "source": [
    "### Function to plot the history of training"
   ]
  },
  {
   "cell_type": "code",
   "execution_count": 6,
   "metadata": {
    "colab": {
     "base_uri": "https://localhost:8080/",
     "height": 34
    },
    "colab_type": "code",
    "executionInfo": {
     "elapsed": 31131,
     "status": "ok",
     "timestamp": 1587770363877,
     "user": {
      "displayName": "Long Luu",
      "photoUrl": "",
      "userId": "03414912596698907112"
     },
     "user_tz": 240
    },
    "id": "FV2NAAtGLHS4",
    "outputId": "99be392d-2a65-4142-fe4a-815d872a32d2"
   },
   "outputs": [
    {
     "name": "stdout",
     "output_type": "stream",
     "text": [
      "time: 14.2 ms\n"
     ]
    }
   ],
   "source": [
    "# Function to plot the history of training\n",
    "def plot_training(history):\n",
    "  \n",
    "  # The history object contains results on the training and test\n",
    "  # sets for each epoch\n",
    "  acc = history.history['accuracy']\n",
    "  val_acc = history.history['val_accuracy']\n",
    "  loss = history.history['loss']\n",
    "  val_loss = history.history['val_loss']\n",
    "\n",
    "  # Plot the result\n",
    "  epochs = range(len(acc))\n",
    "  fig = plt.figure(figsize=(15, 5))\n",
    "  ax1 = fig.add_subplot(121)\n",
    "  plt.title('Max val accuracy: {0:.4f}'.format(max(val_acc)))\n",
    "  plt.plot(epochs, acc, color='blue', label='Train')\n",
    "  plt.plot(epochs, val_acc, color='orange', label='Val')\n",
    "  plt.xlabel('Epoch')\n",
    "  plt.ylabel('Accuracy')\n",
    "  plt.legend()\n",
    "\n",
    "  ax1 = fig.add_subplot(122)\n",
    "  plt.title('Min val loss: {0:.4f}'.format(min(val_loss)))\n",
    "  plt.plot(epochs, loss, color='blue', label='Train')\n",
    "  plt.plot(epochs, val_loss, color='orange', label='Val')\n",
    "  plt.xlabel('Epoch')\n",
    "  plt.ylabel('Loss')\n",
    "  plt.legend()\n",
    "  if max(val_loss) > 3:\n",
    "      plt.ylim(0, 3)\n",
    "\n",
    "  # Save the figure\n",
    "  path = fig_save_path + \".png\"\n",
    "  plt.tight_layout()\n",
    "  plt.savefig(path, format=\"png\", dpi=300)\n"
   ]
  },
  {
   "cell_type": "markdown",
   "metadata": {
    "colab_type": "text",
    "id": "S-2YALtORhPR"
   },
   "source": [
    "# InceptionV3"
   ]
  },
  {
   "cell_type": "markdown",
   "metadata": {
    "colab_type": "text",
    "id": "Oqfb507nMU7j"
   },
   "source": [
    "## Method 1 \n",
    "* Resize the data patches to match required input size of InceptionV3 (at least 75x75)\n",
    "* Freeze up to layer 40\n",
    "* No data augmentation\n",
    "\n"
   ]
  },
  {
   "cell_type": "markdown",
   "metadata": {
    "colab_type": "text",
    "id": "eyn4hWezJwqw"
   },
   "source": [
    "### Load InceptionV3 and visualize the model"
   ]
  },
  {
   "cell_type": "code",
   "execution_count": 0,
   "metadata": {
    "colab": {},
    "colab_type": "code",
    "id": "VrqbpLSrRoId"
   },
   "outputs": [],
   "source": [
    "# Load the base model\n",
    "base_model = tf.keras.applications.InceptionV3(input_shape=[75, 75, 3], include_top=False, weights='imagenet')\n"
   ]
  },
  {
   "cell_type": "code",
   "execution_count": 0,
   "metadata": {
    "colab": {},
    "colab_type": "code",
    "id": "i9CuOpvEg975"
   },
   "outputs": [],
   "source": [
    "# Plot the base model\n",
    "from tensorflow.keras.utils import plot_model\n",
    "plot_model(base_model, to_file='model.png')"
   ]
  },
  {
   "cell_type": "code",
   "execution_count": 0,
   "metadata": {
    "colab": {},
    "colab_type": "code",
    "id": "qwsCsKVPh-o0"
   },
   "outputs": [],
   "source": [
    "# List all the layers\n",
    "base_model.summary()"
   ]
  },
  {
   "cell_type": "markdown",
   "metadata": {
    "colab_type": "text",
    "id": "iu7fyoXZNhWv"
   },
   "source": [
    "### Resize the data and construct the model"
   ]
  },
  {
   "cell_type": "code",
   "execution_count": 0,
   "metadata": {
    "colab": {
     "base_uri": "https://localhost:8080/",
     "height": 34
    },
    "colab_type": "code",
    "executionInfo": {
     "elapsed": 7950,
     "status": "ok",
     "timestamp": 1587587643660,
     "user": {
      "displayName": "Long Luu",
      "photoUrl": "",
      "userId": "03414912596698907112"
     },
     "user_tz": 240
    },
    "id": "N-bmeQRZoP5k",
    "outputId": "6a2c7787-03c4-4e2f-fd46-46d938b920f1"
   },
   "outputs": [
    {
     "name": "stdout",
     "output_type": "stream",
     "text": [
      "time: 7.47 s\n"
     ]
    }
   ],
   "source": [
    "# Resize the data patches to match required input size of InceptionV3\n",
    "X_train_resize = tf.image.resize(\n",
    "                        X_train,\n",
    "                        [75, 75],\n",
    "                        method='bilinear',\n",
    "                        antialias=True)\n",
    "\n",
    "X_val_resize = tf.image.resize(\n",
    "                        X_val,\n",
    "                        [75, 75],\n",
    "                        method='bilinear',\n",
    "                        antialias=True)\n"
   ]
  },
  {
   "cell_type": "code",
   "execution_count": 0,
   "metadata": {
    "colab": {
     "base_uri": "https://localhost:8080/",
     "height": 34
    },
    "colab_type": "code",
    "executionInfo": {
     "elapsed": 4041,
     "status": "ok",
     "timestamp": 1587588087512,
     "user": {
      "displayName": "Long Luu",
      "photoUrl": "",
      "userId": "03414912596698907112"
     },
     "user_tz": 240
    },
    "id": "c0lGMxdqLkju",
    "outputId": "747ea785-223c-422c-a77b-4128abc8beb4"
   },
   "outputs": [
    {
     "name": "stdout",
     "output_type": "stream",
     "text": [
      "time: 3.71 s\n"
     ]
    }
   ],
   "source": [
    "# Freeze all weights\n",
    "base_model.trainable = False \n",
    "\n",
    "# Add last layers\n",
    "global_average_layer = tf.keras.layers.GlobalAveragePooling2D()\n",
    "prediction_layer = tf.keras.layers.Dense(1, activation='sigmoid')\n",
    "\n",
    "# Build a new model reusing the pretrained base\n",
    "model = tf.keras.Sequential([\n",
    "  base_model,\n",
    "  global_average_layer,\n",
    "  prediction_layer\n",
    "])\n",
    "\n",
    "# Compile the model\n",
    "early_stopping_cb = keras.callbacks.EarlyStopping(patience=50, restore_best_weights=True, monitor='val_loss')\n",
    "optimizer = keras.optimizers.Adam(learning_rate=0.005)\n",
    "model.compile(optimizer=optimizer,\n",
    "              loss='binary_crossentropy',\n",
    "              metrics=['accuracy'])"
   ]
  },
  {
   "cell_type": "code",
   "execution_count": 0,
   "metadata": {
    "colab": {},
    "colab_type": "code",
    "id": "bH_mRrOrPyx_"
   },
   "outputs": [],
   "source": [
    "# Check the model\n",
    "model.summary()"
   ]
  },
  {
   "cell_type": "markdown",
   "metadata": {
    "colab_type": "text",
    "id": "CiwsP_dSKTIu"
   },
   "source": [
    "### Train the last layer first"
   ]
  },
  {
   "cell_type": "code",
   "execution_count": 0,
   "metadata": {
    "colab": {},
    "colab_type": "code",
    "id": "GTYW0isgJEao"
   },
   "outputs": [],
   "source": [
    "# Try training on a single batch first\n",
    "train_steps = 50\n",
    "loss = []\n",
    "accuracy = []\n",
    "for i in range(train_steps):\n",
    "  metrics = model.train_on_batch(X_train_resize[:128, :, :, :], y_train[:128])\n",
    "  loss.append(metrics[0])\n",
    "  accuracy.append(metrics[1])\n",
    "\n",
    "\n",
    "epochs = range(len(accuracy))\n",
    "fig = plt.figure(figsize=(15, 5))\n",
    "ax1 = fig.add_subplot(121)\n",
    "plt.title('Training accuracy')\n",
    "plt.plot(epochs, accuracy, color='blue', label='Train')\n",
    "plt.xlabel('Epoch')\n",
    "plt.ylabel('Accuracy')\n",
    "plt.legend()\n",
    "\n",
    "ax1 = fig.add_subplot(122)\n",
    "plt.title('Training loss')\n",
    "plt.plot(epochs, loss, color='blue', label='Train')\n",
    "plt.xlabel('Epoch')\n",
    "plt.ylabel('Loss')"
   ]
  },
  {
   "cell_type": "code",
   "execution_count": 0,
   "metadata": {
    "colab": {},
    "colab_type": "code",
    "id": "6KiDH8wCdj1Y"
   },
   "outputs": [],
   "source": [
    "# Train the last layer first\n",
    "EPOCH = 10\n",
    "BATCH_SIZE = 128\n",
    "history = model.fit(X_train_resize, y_train, validation_data=(X_val_resize, y_val), \n",
    "                    epochs=EPOCH, callbacks=[early_stopping_cb], batch_size=BATCH_SIZE)"
   ]
  },
  {
   "cell_type": "code",
   "execution_count": 0,
   "metadata": {
    "colab": {
     "base_uri": "https://localhost:8080/",
     "height": 386
    },
    "colab_type": "code",
    "executionInfo": {
     "elapsed": 1992,
     "status": "ok",
     "timestamp": 1587588395073,
     "user": {
      "displayName": "Long Luu",
      "photoUrl": "",
      "userId": "03414912596698907112"
     },
     "user_tz": 240
    },
    "id": "nwC2nW0rNsxv",
    "outputId": "4d7bbcd7-5945-47f7-944b-60ce29fd20e0"
   },
   "outputs": [
    {
     "data": {
      "image/png": "[encoded data removed]",
      "text/plain": [
       "<Figure size 1080x360 with 2 Axes>"
      ]
     },
     "metadata": {
      "needs_background": "light",
      "tags": []
     },
     "output_type": "display_data"
    },
    {
     "name": "stdout",
     "output_type": "stream",
     "text": [
      "time: 1.6 s\n"
     ]
    }
   ],
   "source": [
    "fig_save_path = \"/content/drive/My Drive/Train_figs/InceptionV3_lastLayer_0.005\"\n",
    "plot_training(history)"
   ]
  },
  {
   "cell_type": "markdown",
   "metadata": {
    "colab_type": "text",
    "id": "DXCguUTKKph0"
   },
   "source": [
    "### Unfreeze last layers and train the model again"
   ]
  },
  {
   "cell_type": "code",
   "execution_count": 0,
   "metadata": {
    "colab": {
     "base_uri": "https://localhost:8080/",
     "height": 50
    },
    "colab_type": "code",
    "executionInfo": {
     "elapsed": 308,
     "status": "ok",
     "timestamp": 1587588412580,
     "user": {
      "displayName": "Long Luu",
      "photoUrl": "",
      "userId": "03414912596698907112"
     },
     "user_tz": 240
    },
    "id": "M0q9xlY3w-17",
    "outputId": "61184c3d-6b4e-4071-f591-dc08b17f0eec"
   },
   "outputs": [
    {
     "name": "stdout",
     "output_type": "stream",
     "text": [
      "40:mixed0\n",
      "time: 2.9 ms\n"
     ]
    }
   ],
   "source": [
    "# Find the layer at which we will freeze\n",
    "layer_freeze = \"mixed0\"\n",
    "for index, layer in enumerate(base_model.layers):\n",
    "    if layer.name == layer_freeze:\n",
    "        print(str(index) + \":\" + str(layer.name))"
   ]
  },
  {
   "cell_type": "code",
   "execution_count": 0,
   "metadata": {
    "colab": {
     "base_uri": "https://localhost:8080/",
     "height": 34
    },
    "colab_type": "code",
    "executionInfo": {
     "elapsed": 378,
     "status": "ok",
     "timestamp": 1587588416311,
     "user": {
      "displayName": "Long Luu",
      "photoUrl": "",
      "userId": "03414912596698907112"
     },
     "user_tz": 240
    },
    "id": "MDjIsGhUwyX_",
    "outputId": "e544d35d-d7c5-4557-f611-3ca2e98d07a8"
   },
   "outputs": [
    {
     "name": "stdout",
     "output_type": "stream",
     "text": [
      "time: 28.8 ms\n"
     ]
    }
   ],
   "source": [
    "# Unfreeze some layers and train everything again\n",
    "model.trainable = True\n",
    "max_layer_freeze = 40\n",
    "for layer in base_model.layers[:max_layer_freeze]:\n",
    "  layer.trainable = False"
   ]
  },
  {
   "cell_type": "code",
   "execution_count": 0,
   "metadata": {
    "colab": {
     "base_uri": "https://localhost:8080/",
     "height": 67
    },
    "colab_type": "code",
    "executionInfo": {
     "elapsed": 407,
     "status": "ok",
     "timestamp": 1587588420224,
     "user": {
      "displayName": "Long Luu",
      "photoUrl": "",
      "userId": "03414912596698907112"
     },
     "user_tz": 240
    },
    "id": "gc1AQKhRj4QA",
    "outputId": "ff43fa4b-45c2-4902-dc1e-2ff7916ae215"
   },
   "outputs": [
    {
     "name": "stdout",
     "output_type": "stream",
     "text": [
      "Checkpoints directory is /content/drive/My Drive/Checkpoints/InceptionV3-DataAug-Freeze40\n",
      "Creating a checkpoints directory\n",
      "time: 9.67 ms\n"
     ]
    }
   ],
   "source": [
    "# Make checkpoint\n",
    "drive_root = '/content/drive/My Drive/'\n",
    "checkpoint_dir = os.path.join(drive_root, \"Checkpoints\", \"InceptionV3-Freeze40\")\n",
    "\n",
    "# Create checkpoint folder\n",
    "print(\"Checkpoints directory is\", checkpoint_dir)\n",
    "if os.path.exists(checkpoint_dir):\n",
    "  print(\"Checkpoints folder already exists\")\n",
    "else:\n",
    "  print(\"Creating a checkpoints directory\")\n",
    "  os.makedirs(checkpoint_dir)\n",
    "\n",
    "# Make checkpoint callbacks\n",
    "checkpoint_path = os.path.join(checkpoint_dir, \"best_model_1.hdf5\")\n",
    "checkpoint_callback = tf.keras.callbacks.ModelCheckpoint(\n",
    "                    filepath=checkpoint_path, monitor='val_loss', verbose=0, save_best_only=True,\n",
    "                    save_weights_only=False, mode='auto')\n"
   ]
  },
  {
   "cell_type": "code",
   "execution_count": 0,
   "metadata": {
    "colab": {},
    "colab_type": "code",
    "id": "lX4Typ61VH7g"
   },
   "outputs": [],
   "source": [
    "# Recompile the model (to set lr after initial training on 1 batch)\n",
    "optimizer = keras.optimizers.Adam(learning_rate=0.002)\n",
    "model.compile(optimizer=optimizer,\n",
    "              loss='binary_crossentropy',\n",
    "              metrics=['accuracy'])\n",
    "\n",
    "# Train the whole model again\n",
    "EPOCH = 200\n",
    "BATCH_SIZE = 128\n",
    "history = model.fit(X_train_resize, y_train, validation_data=(X_val_resize, y_val), \n",
    "                    epochs=EPOCH, callbacks=[checkpoint_callback, early_stopping_cb], batch_size=BATCH_SIZE)"
   ]
  },
  {
   "cell_type": "code",
   "execution_count": 0,
   "metadata": {
    "colab": {
     "base_uri": "https://localhost:8080/",
     "height": 386
    },
    "colab_type": "code",
    "executionInfo": {
     "elapsed": 1949,
     "status": "ok",
     "timestamp": 1587590620902,
     "user": {
      "displayName": "Long Luu",
      "photoUrl": "",
      "userId": "03414912596698907112"
     },
     "user_tz": 240
    },
    "id": "u6X2rRF1VOfi",
    "outputId": "39fb75b1-04c6-44e2-c741-8385f2a15c40"
   },
   "outputs": [
    {
     "data": {
      "image/png": "[encoded data removed]",
      "text/plain": [
       "<Figure size 1080x360 with 2 Axes>"
      ]
     },
     "metadata": {
      "needs_background": "light",
      "tags": []
     },
     "output_type": "display_data"
    },
    {
     "name": "stdout",
     "output_type": "stream",
     "text": [
      "time: 1.51 s\n"
     ]
    }
   ],
   "source": [
    "fig_save_path = \"/content/drive/My Drive/Train_figs/InceptionV3_method1\"\n",
    "plot_training(history)"
   ]
  },
  {
   "cell_type": "code",
   "execution_count": 0,
   "metadata": {
    "colab": {
     "base_uri": "https://localhost:8080/",
     "height": 50
    },
    "colab_type": "code",
    "executionInfo": {
     "elapsed": 5611,
     "status": "ok",
     "timestamp": 1587591039497,
     "user": {
      "displayName": "Long Luu",
      "photoUrl": "",
      "userId": "03414912596698907112"
     },
     "user_tz": 240
    },
    "id": "Hl1icRdlxu4v",
    "outputId": "8ad75d16-da5c-4bcc-877b-bab907cde7e6"
   },
   "outputs": [
    {
     "name": "stdout",
     "output_type": "stream",
     "text": [
      "Val accuracy: 95.8%\n",
      "time: 5.27 s\n"
     ]
    }
   ],
   "source": [
    "# Check the model on val data\n",
    "n_sample = 10000\n",
    "label_predict = model.predict(X_val_resize[:n_sample])\n",
    "label_predict = np.round(np.squeeze(label_predict))\n",
    "train_acc = sum(label_predict == y_val[:n_sample]) / len(y_val[:n_sample])\n",
    "print(\"Val accuracy: {:.1f}%\".format(train_acc*100))"
   ]
  },
  {
   "cell_type": "markdown",
   "metadata": {
    "colab_type": "text",
    "id": "Fa6HESjDorDC"
   },
   "source": [
    "## Method 2\n",
    "* Resize the data patches to match required input size of InceptionV3 (at least 75x75)\n",
    "* Freeze up to layer 40\n",
    "* Add data augmentation\n",
    "\n"
   ]
  },
  {
   "cell_type": "markdown",
   "metadata": {
    "colab_type": "text",
    "id": "JJrGJbWKorDE"
   },
   "source": [
    "### Load InceptionV3 and visualize the model"
   ]
  },
  {
   "cell_type": "code",
   "execution_count": 0,
   "metadata": {
    "colab": {
     "base_uri": "https://localhost:8080/",
     "height": 34
    },
    "colab_type": "code",
    "executionInfo": {
     "elapsed": 7942,
     "status": "ok",
     "timestamp": 1587591159001,
     "user": {
      "displayName": "Long Luu",
      "photoUrl": "",
      "userId": "03414912596698907112"
     },
     "user_tz": 240
    },
    "id": "wmaHxIrAorDE",
    "outputId": "78eefcf1-656c-466f-d070-b8679d18e4b8"
   },
   "outputs": [
    {
     "name": "stdout",
     "output_type": "stream",
     "text": [
      "time: 7.58 s\n"
     ]
    }
   ],
   "source": [
    "# Load the base model\n",
    "base_model = tf.keras.applications.InceptionV3(input_shape=[75, 75, 3], include_top=False, weights='imagenet')\n"
   ]
  },
  {
   "cell_type": "markdown",
   "metadata": {
    "colab_type": "text",
    "id": "O3XDzHPJorDK"
   },
   "source": [
    "### Resize the data and construct the model"
   ]
  },
  {
   "cell_type": "code",
   "execution_count": 0,
   "metadata": {
    "colab": {
     "base_uri": "https://localhost:8080/"
    },
    "colab_type": "code",
    "executionInfo": {
     "elapsed": 11775,
     "status": "ok",
     "timestamp": 1587591167558,
     "user": {
      "displayName": "Long Luu",
      "photoUrl": "",
      "userId": "03414912596698907112"
     },
     "user_tz": 240
    },
    "id": "88cumDBkorDK",
    "outputId": "78b03602-765b-4f2f-d642-86cf7701f3e2"
   },
   "outputs": [
    {
     "name": "stdout",
     "output_type": "stream",
     "text": [
      "time: 8.48 s\n"
     ]
    }
   ],
   "source": [
    "# Resize the data patches to match required input size of InceptionV3\n",
    "X_train_resize = tf.image.resize(\n",
    "                        X_train,\n",
    "                        [75, 75],\n",
    "                        method='bilinear',\n",
    "                        antialias=True)\n",
    "\n",
    "X_val_resize = tf.image.resize(\n",
    "                        X_val,\n",
    "                        [75, 75],\n",
    "                        method='bilinear',\n",
    "                        antialias=True)\n"
   ]
  },
  {
   "cell_type": "code",
   "execution_count": 0,
   "metadata": {
    "colab": {
     "base_uri": "https://localhost:8080/"
    },
    "colab_type": "code",
    "executionInfo": {
     "elapsed": 13830,
     "status": "ok",
     "timestamp": 1587591172020,
     "user": {
      "displayName": "Long Luu",
      "photoUrl": "",
      "userId": "03414912596698907112"
     },
     "user_tz": 240
    },
    "id": "zrk4ZMFiorDO",
    "outputId": "328bd161-b266-4878-e4e3-2aa1ac1e1a90"
   },
   "outputs": [
    {
     "name": "stdout",
     "output_type": "stream",
     "text": [
      "time: 4.54 s\n"
     ]
    }
   ],
   "source": [
    "# Freeze all weights\n",
    "base_model.trainable = False \n",
    "\n",
    "# Add last layers\n",
    "global_average_layer = tf.keras.layers.GlobalAveragePooling2D()\n",
    "prediction_layer = tf.keras.layers.Dense(1, activation='sigmoid')\n",
    "\n",
    "# Build a new model reusing the pretrained base\n",
    "model = tf.keras.Sequential([\n",
    "  base_model,\n",
    "  global_average_layer,\n",
    "  prediction_layer\n",
    "])\n",
    "\n",
    "# Compile the model\n",
    "early_stopping_cb = keras.callbacks.EarlyStopping(patience=50, restore_best_weights=True, monitor='val_loss')\n",
    "optimizer = keras.optimizers.Adam(learning_rate=0.005)\n",
    "model.compile(optimizer=optimizer,\n",
    "              loss='binary_crossentropy',\n",
    "              metrics=['accuracy'])"
   ]
  },
  {
   "cell_type": "code",
   "execution_count": 0,
   "metadata": {
    "colab": {},
    "colab_type": "code",
    "id": "1D-WCMDnorDR"
   },
   "outputs": [],
   "source": [
    "# Check the model\n",
    "model.summary()"
   ]
  },
  {
   "cell_type": "markdown",
   "metadata": {
    "colab_type": "text",
    "id": "BYe83-J2orDU"
   },
   "source": [
    "### Train the last layer first"
   ]
  },
  {
   "cell_type": "code",
   "execution_count": 0,
   "metadata": {
    "colab": {},
    "colab_type": "code",
    "id": "ttOQEatnorDX"
   },
   "outputs": [],
   "source": [
    "# Train the last layer first\n",
    "EPOCH = 20\n",
    "BATCH_SIZE = 128\n",
    "history = model.fit(X_train_resize, y_train, validation_data=(X_val_resize, y_val), \n",
    "                    epochs=EPOCH, callbacks=[early_stopping_cb], batch_size=BATCH_SIZE)"
   ]
  },
  {
   "cell_type": "markdown",
   "metadata": {
    "colab_type": "text",
    "id": "dVVgJVPPorDc"
   },
   "source": [
    "### Unfreeze last layers and train the model again"
   ]
  },
  {
   "cell_type": "code",
   "execution_count": 0,
   "metadata": {
    "colab": {
     "base_uri": "https://localhost:8080/",
     "height": 50
    },
    "colab_type": "code",
    "executionInfo": {
     "elapsed": 384,
     "status": "ok",
     "timestamp": 1587591472651,
     "user": {
      "displayName": "Long Luu",
      "photoUrl": "",
      "userId": "03414912596698907112"
     },
     "user_tz": 240
    },
    "id": "dTP7noicorDc",
    "outputId": "656de48d-5176-4b3e-c60a-5c0c8a216a48"
   },
   "outputs": [
    {
     "name": "stdout",
     "output_type": "stream",
     "text": [
      "40:mixed0\n",
      "time: 3.13 ms\n"
     ]
    }
   ],
   "source": [
    "# Find the layer at which we will freeze\n",
    "layer_freeze = \"mixed0\"\n",
    "for index, layer in enumerate(base_model.layers):\n",
    "    if layer.name == layer_freeze:\n",
    "        print(str(index) + \":\" + str(layer.name))"
   ]
  },
  {
   "cell_type": "code",
   "execution_count": 0,
   "metadata": {
    "colab": {
     "base_uri": "https://localhost:8080/",
     "height": 34
    },
    "colab_type": "code",
    "executionInfo": {
     "elapsed": 543,
     "status": "ok",
     "timestamp": 1587591472825,
     "user": {
      "displayName": "Long Luu",
      "photoUrl": "",
      "userId": "03414912596698907112"
     },
     "user_tz": 240
    },
    "id": "aZPWqgUZorDe",
    "outputId": "4cde9269-2687-49ab-d393-24a68f9a033a"
   },
   "outputs": [
    {
     "name": "stdout",
     "output_type": "stream",
     "text": [
      "time: 22.5 ms\n"
     ]
    }
   ],
   "source": [
    "# Unfreeze some layers\n",
    "model.trainable = True\n",
    "max_layer_freeze = 40\n",
    "for layer in base_model.layers[:max_layer_freeze]:\n",
    "  layer.trainable = False"
   ]
  },
  {
   "cell_type": "code",
   "execution_count": 0,
   "metadata": {
    "colab": {
     "base_uri": "https://localhost:8080/",
     "height": 67
    },
    "colab_type": "code",
    "executionInfo": {
     "elapsed": 540,
     "status": "ok",
     "timestamp": 1587591472827,
     "user": {
      "displayName": "Long Luu",
      "photoUrl": "",
      "userId": "03414912596698907112"
     },
     "user_tz": 240
    },
    "id": "iEpcZgYCorDg",
    "outputId": "22213ba2-ac07-4353-b95f-2cbca3569cfd"
   },
   "outputs": [
    {
     "name": "stdout",
     "output_type": "stream",
     "text": [
      "Checkpoints directory is /content/drive/My Drive/Checkpoints/InceptionV3-DataAug-Freeze40\n",
      "Checkpoints folder already exists\n",
      "time: 7.64 ms\n"
     ]
    }
   ],
   "source": [
    "# Make checkpoint\n",
    "drive_root = '/content/drive/My Drive/'\n",
    "checkpoint_dir = os.path.join(drive_root, \"Checkpoints\", \"InceptionV3-DataAug-Freeze40\")\n",
    "\n",
    "# Create checkpoint folder\n",
    "print(\"Checkpoints directory is\", checkpoint_dir)\n",
    "if os.path.exists(checkpoint_dir):\n",
    "  print(\"Checkpoints folder already exists\")\n",
    "else:\n",
    "  print(\"Creating a checkpoints directory\")\n",
    "  os.makedirs(checkpoint_dir)\n",
    "\n",
    "# Make checkpoint callbacks\n",
    "checkpoint_path = os.path.join(checkpoint_dir, \"best_model.hdf5\")\n",
    "checkpoint_callback = tf.keras.callbacks.ModelCheckpoint(\n",
    "                    filepath=checkpoint_path, monitor='val_loss', verbose=0, save_best_only=True,\n",
    "                    save_weights_only=False, mode='auto')\n"
   ]
  },
  {
   "cell_type": "code",
   "execution_count": 0,
   "metadata": {
    "colab": {
     "base_uri": "https://localhost:8080/",
     "height": 50
    },
    "colab_type": "code",
    "executionInfo": {
     "elapsed": 1783,
     "status": "ok",
     "timestamp": 1587591474080,
     "user": {
      "displayName": "Long Luu",
      "photoUrl": "",
      "userId": "03414912596698907112"
     },
     "user_tz": 240
    },
    "id": "9LBtLxj2qVoS",
    "outputId": "31e86623-a8d9-4a46-b770-ed9978c7f2cd"
   },
   "outputs": [
    {
     "name": "stderr",
     "output_type": "stream",
     "text": [
      "Using TensorFlow backend.\n"
     ]
    },
    {
     "name": "stdout",
     "output_type": "stream",
     "text": [
      "time: 1.26 s\n"
     ]
    }
   ],
   "source": [
    "# Data augmentation\n",
    "from keras.preprocessing.image import ImageDataGenerator\n",
    "\n",
    "# Create the augmentation generator\n",
    "train_datagen = ImageDataGenerator(\n",
    "    shear_range=0.2,    \n",
    "    width_shift_range=0.2,\n",
    "    height_shift_range=0.2,  \n",
    "    horizontal_flip=True,\n",
    "    vertical_flip=True)\n",
    "\n",
    "train_datagen.fit(X_train_resize)\n",
    "\n",
    "# Note that the validation data should not be augmented!\n",
    "train_generator = train_datagen.flow(\n",
    "        X_train_resize, y_train,\n",
    "        batch_size=BATCH_SIZE)"
   ]
  },
  {
   "cell_type": "code",
   "execution_count": 0,
   "metadata": {
    "colab": {},
    "colab_type": "code",
    "id": "0qbA0vAeorDi"
   },
   "outputs": [],
   "source": [
    "# Recompile the model (to set lr after initial training on 1 batch)\n",
    "optimizer = keras.optimizers.Adam(learning_rate=0.002)\n",
    "model.compile(optimizer=optimizer,\n",
    "              loss='binary_crossentropy',\n",
    "              metrics=['accuracy'])\n",
    "\n",
    "# Train the whole model again\n",
    "EPOCH = 200\n",
    "BATCH_SIZE = 128\n",
    "history = model.fit(\n",
    "      train_generator,\n",
    "      steps_per_epoch=X_train_resize.shape[0] / BATCH_SIZE,\n",
    "      epochs=EPOCH,\n",
    "      validation_data=(X_val_resize, y_val), \n",
    "      callbacks=[checkpoint_callback, early_stopping_cb])   "
   ]
  },
  {
   "cell_type": "code",
   "execution_count": 0,
   "metadata": {
    "colab": {
     "base_uri": "https://localhost:8080/",
     "height": 386
    },
    "colab_type": "code",
    "executionInfo": {
     "elapsed": 1810,
     "status": "ok",
     "timestamp": 1587606305501,
     "user": {
      "displayName": "Long Luu",
      "photoUrl": "",
      "userId": "03414912596698907112"
     },
     "user_tz": 240
    },
    "id": "oflX2fzQorDk",
    "outputId": "0911d2e9-1a21-4d06-cced-db82c16ddca6"
   },
   "outputs": [
    {
     "data": {
      "image/png": "[encoded data removed]",
      "text/plain": [
       "<Figure size 1080x360 with 2 Axes>"
      ]
     },
     "metadata": {
      "needs_background": "light",
      "tags": []
     },
     "output_type": "display_data"
    },
    {
     "name": "stdout",
     "output_type": "stream",
     "text": [
      "time: 1.71 s\n"
     ]
    }
   ],
   "source": [
    "fig_save_path = \"/content/drive/My Drive/Train_figs/InceptionV3_method2\"\n",
    "plot_training(history)"
   ]
  },
  {
   "cell_type": "markdown",
   "metadata": {
    "colab_type": "text",
    "id": "buA6BibsEgt1"
   },
   "source": [
    "## Method 3\n",
    "* Use tranpose convolution to upsample (3X) input to match required input size of InceptionV3 (at least 75x75)\n",
    "* Freeze up to layer 40\n",
    "* Add data augmentation\n",
    "* Use unbalanced data (10 times more patches with no tumor)\n",
    "\n"
   ]
  },
  {
   "cell_type": "markdown",
   "metadata": {
    "colab_type": "text",
    "id": "GofT9weXEgt3"
   },
   "source": [
    "### Load InceptionV3 and visualize the model"
   ]
  },
  {
   "cell_type": "code",
   "execution_count": 7,
   "metadata": {
    "colab": {
     "base_uri": "https://localhost:8080/",
     "height": 67
    },
    "colab_type": "code",
    "executionInfo": {
     "elapsed": 44292,
     "status": "ok",
     "timestamp": 1587770377049,
     "user": {
      "displayName": "Long Luu",
      "photoUrl": "",
      "userId": "03414912596698907112"
     },
     "user_tz": 240
    },
    "id": "3TWKSDogEgt3",
    "outputId": "a0a41796-6346-45ad-e1cb-757093809159"
   },
   "outputs": [
    {
     "name": "stdout",
     "output_type": "stream",
     "text": [
      "Downloading data from https://storage.googleapis.com/tensorflow/keras-applications/inception_v3/inception_v3_weights_tf_dim_ordering_tf_kernels_notop.h5\n",
      "87916544/87910968 [==============================] - 1s 0us/step\n",
      "time: 13.2 s\n"
     ]
    }
   ],
   "source": [
    "# Load the base model\n",
    "base_model = tf.keras.applications.InceptionV3(input_shape=[32*3, 32*3, 3], include_top=False, weights='imagenet')\n"
   ]
  },
  {
   "cell_type": "code",
   "execution_count": 0,
   "metadata": {
    "colab": {},
    "colab_type": "code",
    "id": "4Xn9KLBeEgt7"
   },
   "outputs": [],
   "source": [
    "# Plot the base model\n",
    "from tensorflow.keras.utils import plot_model\n",
    "plot_model(base_model, to_file='model.png')"
   ]
  },
  {
   "cell_type": "code",
   "execution_count": 0,
   "metadata": {
    "colab": {},
    "colab_type": "code",
    "id": "yGzL1L_WEgt9"
   },
   "outputs": [],
   "source": [
    "# List all the layers\n",
    "base_model.summary()"
   ]
  },
  {
   "cell_type": "markdown",
   "metadata": {
    "colab_type": "text",
    "id": "onAvdVlYEgt_"
   },
   "source": [
    "### Construct the model"
   ]
  },
  {
   "cell_type": "code",
   "execution_count": 8,
   "metadata": {
    "colab": {
     "base_uri": "https://localhost:8080/",
     "height": 34
    },
    "colab_type": "code",
    "executionInfo": {
     "elapsed": 4029,
     "status": "ok",
     "timestamp": 1587770381083,
     "user": {
      "displayName": "Long Luu",
      "photoUrl": "",
      "userId": "03414912596698907112"
     },
     "user_tz": 240
    },
    "id": "wIiDuw69EguC",
    "outputId": "7c2bbded-c7a5-4f7e-fb49-0e3e98506328"
   },
   "outputs": [
    {
     "name": "stdout",
     "output_type": "stream",
     "text": [
      "time: 2.83 s\n"
     ]
    }
   ],
   "source": [
    "# Freeze all weights\n",
    "base_model.trainable = False \n",
    "\n",
    "# Add input transpose conv layer\n",
    "input_layer = tf.keras.layers.InputLayer(\n",
    "    input_shape=[32, 32, 3])\n",
    "input_tranConv = tf.keras.layers.Conv2DTranspose(3, [3, 3], strides=3,\n",
    "                                    padding='same',\n",
    "                                    use_bias=False)\n",
    "\n",
    "# Add last layers\n",
    "global_average_layer = tf.keras.layers.GlobalAveragePooling2D()\n",
    "prediction_layer = tf.keras.layers.Dense(1, activation='sigmoid')\n",
    "\n",
    "# Build a new model reusing the pretrained base\n",
    "model = tf.keras.Sequential([\n",
    "  input_layer,\n",
    "  input_tranConv,                           \n",
    "  base_model,\n",
    "  global_average_layer,\n",
    "  prediction_layer\n",
    "])\n",
    "\n",
    "# Compile the model\n",
    "early_stopping_cb = keras.callbacks.EarlyStopping(patience=50, restore_best_weights=True, monitor='val_loss')\n",
    "optimizer = keras.optimizers.Adam(learning_rate=0.005)\n",
    "model.compile(optimizer=optimizer,\n",
    "              loss='binary_crossentropy',\n",
    "              metrics=['accuracy'])"
   ]
  },
  {
   "cell_type": "code",
   "execution_count": 0,
   "metadata": {
    "colab": {},
    "colab_type": "code",
    "id": "XL7wOUvFEguE"
   },
   "outputs": [],
   "source": [
    "# Check the model\n",
    "model.summary()"
   ]
  },
  {
   "cell_type": "markdown",
   "metadata": {
    "colab_type": "text",
    "id": "AT_fs45wEguF"
   },
   "source": [
    "### Train the last layer first"
   ]
  },
  {
   "cell_type": "code",
   "execution_count": 9,
   "metadata": {
    "colab": {
     "base_uri": "https://localhost:8080/",
     "height": 370
    },
    "colab_type": "code",
    "executionInfo": {
     "elapsed": 1844764,
     "status": "ok",
     "timestamp": 1587772221834,
     "user": {
      "displayName": "Long Luu",
      "photoUrl": "",
      "userId": "03414912596698907112"
     },
     "user_tz": 240
    },
    "id": "_ZDKftA_EguJ",
    "outputId": "0f62fa7b-9d98-46ba-b1f6-affa7d3909ca"
   },
   "outputs": [
    {
     "name": "stdout",
     "output_type": "stream",
     "text": [
      "Epoch 1/10\n",
      "679/679 [==============================] - 186s 274ms/step - loss: 0.1569 - accuracy: 0.9492 - val_loss: 0.1321 - val_accuracy: 0.9580\n",
      "Epoch 2/10\n",
      "679/679 [==============================] - 182s 269ms/step - loss: 0.1336 - accuracy: 0.9570 - val_loss: 0.1231 - val_accuracy: 0.9613\n",
      "Epoch 3/10\n",
      "679/679 [==============================] - 182s 268ms/step - loss: 0.1291 - accuracy: 0.9595 - val_loss: 0.1245 - val_accuracy: 0.9608\n",
      "Epoch 4/10\n",
      "679/679 [==============================] - 182s 269ms/step - loss: 0.1268 - accuracy: 0.9602 - val_loss: 0.1202 - val_accuracy: 0.9615\n",
      "Epoch 5/10\n",
      "679/679 [==============================] - 182s 268ms/step - loss: 0.1242 - accuracy: 0.9610 - val_loss: 0.1206 - val_accuracy: 0.9619\n",
      "Epoch 6/10\n",
      "679/679 [==============================] - 182s 268ms/step - loss: 0.1239 - accuracy: 0.9612 - val_loss: 0.1183 - val_accuracy: 0.9636\n",
      "Epoch 7/10\n",
      "679/679 [==============================] - 182s 268ms/step - loss: 0.1232 - accuracy: 0.9614 - val_loss: 0.1230 - val_accuracy: 0.9602\n",
      "Epoch 8/10\n",
      "679/679 [==============================] - 182s 268ms/step - loss: 0.1241 - accuracy: 0.9613 - val_loss: 0.1148 - val_accuracy: 0.9645\n",
      "Epoch 9/10\n",
      "679/679 [==============================] - 182s 268ms/step - loss: 0.1233 - accuracy: 0.9618 - val_loss: 0.1257 - val_accuracy: 0.9586\n",
      "Epoch 10/10\n",
      "679/679 [==============================] - 182s 268ms/step - loss: 0.1211 - accuracy: 0.9622 - val_loss: 0.1155 - val_accuracy: 0.9641\n",
      "time: 30min 40s\n"
     ]
    }
   ],
   "source": [
    "# Train the first and last layer first\n",
    "EPOCH = 10\n",
    "BATCH_SIZE = 512\n",
    "y_train = np.array(y_train)\n",
    "y_val = np.array(y_val)\n",
    "history = model.fit(X_train, y_train, validation_data=(X_val, y_val), \n",
    "                    epochs=EPOCH, callbacks=[early_stopping_cb], batch_size=BATCH_SIZE)"
   ]
  },
  {
   "cell_type": "markdown",
   "metadata": {
    "colab_type": "text",
    "id": "wkeUUnvOEguM"
   },
   "source": [
    "### Unfreeze last layers and train the model again"
   ]
  },
  {
   "cell_type": "code",
   "execution_count": 0,
   "metadata": {
    "colab": {
     "base_uri": "https://localhost:8080/",
     "height": 50
    },
    "colab_type": "code",
    "executionInfo": {
     "elapsed": 308,
     "status": "ok",
     "timestamp": 1587588412580,
     "user": {
      "displayName": "Long Luu",
      "photoUrl": "",
      "userId": "03414912596698907112"
     },
     "user_tz": 240
    },
    "id": "39f4RY8xEguM",
    "outputId": "61184c3d-6b4e-4071-f591-dc08b17f0eec"
   },
   "outputs": [
    {
     "name": "stdout",
     "output_type": "stream",
     "text": [
      "40:mixed0\n",
      "time: 2.9 ms\n"
     ]
    }
   ],
   "source": [
    "# Find the layer at which we will freeze\n",
    "layer_freeze = \"mixed0\"\n",
    "for index, layer in enumerate(base_model.layers):\n",
    "    if layer.name == layer_freeze:\n",
    "        print(str(index) + \":\" + str(layer.name))"
   ]
  },
  {
   "cell_type": "code",
   "execution_count": 10,
   "metadata": {
    "colab": {
     "base_uri": "https://localhost:8080/",
     "height": 34
    },
    "colab_type": "code",
    "executionInfo": {
     "elapsed": 1844756,
     "status": "ok",
     "timestamp": 1587772221837,
     "user": {
      "displayName": "Long Luu",
      "photoUrl": "",
      "userId": "03414912596698907112"
     },
     "user_tz": 240
    },
    "id": "3AlvHcnHEguO",
    "outputId": "bb6b1a81-2fc4-46d5-9917-8f914284d739"
   },
   "outputs": [
    {
     "name": "stdout",
     "output_type": "stream",
     "text": [
      "time: 9.69 ms\n"
     ]
    }
   ],
   "source": [
    "# Unfreeze some layers and train everything again\n",
    "model.trainable = True\n",
    "max_layer_freeze = 40\n",
    "for layer in base_model.layers[:max_layer_freeze]:\n",
    "  layer.trainable = False"
   ]
  },
  {
   "cell_type": "code",
   "execution_count": 11,
   "metadata": {
    "colab": {
     "base_uri": "https://localhost:8080/",
     "height": 67
    },
    "colab_type": "code",
    "executionInfo": {
     "elapsed": 1837209,
     "status": "ok",
     "timestamp": 1587772221838,
     "user": {
      "displayName": "Long Luu",
      "photoUrl": "",
      "userId": "03414912596698907112"
     },
     "user_tz": 240
    },
    "id": "ntGYnCCgEguQ",
    "outputId": "ac203d02-cd39-4f1b-e33c-63e635812b32"
   },
   "outputs": [
    {
     "name": "stdout",
     "output_type": "stream",
     "text": [
      "Checkpoints directory is /content/drive/My Drive/Checkpoints/InceptionV3-Freeze40-UnbalData\n",
      "Creating a checkpoints directory\n",
      "time: 8.98 ms\n"
     ]
    }
   ],
   "source": [
    "# Make checkpoint\n",
    "drive_root = '/content/drive/My Drive/'\n",
    "checkpoint_dir = os.path.join(drive_root, \"Checkpoints\", \"InceptionV3-Freeze40-UnbalData\")\n",
    "\n",
    "# Create checkpoint folder\n",
    "print(\"Checkpoints directory is\", checkpoint_dir)\n",
    "if os.path.exists(checkpoint_dir):\n",
    "  print(\"Checkpoints folder already exists\")\n",
    "else:\n",
    "  print(\"Creating a checkpoints directory\")\n",
    "  os.makedirs(checkpoint_dir)\n",
    "\n",
    "# Make checkpoint callbacks\n",
    "checkpoint_path = os.path.join(checkpoint_dir, \"best_model.hdf5\")\n",
    "checkpoint_callback = tf.keras.callbacks.ModelCheckpoint(\n",
    "                    filepath=checkpoint_path, monitor='val_loss', verbose=0, save_best_only=True,\n",
    "                    save_weights_only=False, mode='auto')\n"
   ]
  },
  {
   "cell_type": "code",
   "execution_count": 13,
   "metadata": {
    "colab": {
     "base_uri": "https://localhost:8080/",
     "height": 34
    },
    "colab_type": "code",
    "executionInfo": {
     "elapsed": 2150,
     "status": "ok",
     "timestamp": 1587772876368,
     "user": {
      "displayName": "Long Luu",
      "photoUrl": "",
      "userId": "03414912596698907112"
     },
     "user_tz": 240
    },
    "id": "zFAUhclWg9ft",
    "outputId": "5f731808-4f8d-461f-9ab2-cb89c9998494"
   },
   "outputs": [
    {
     "name": "stdout",
     "output_type": "stream",
     "text": [
      "time: 1.55 s\n"
     ]
    }
   ],
   "source": [
    "# Data augmentation\n",
    "from keras.preprocessing.image import ImageDataGenerator\n",
    "\n",
    "# Create the augmentation generator\n",
    "train_datagen = ImageDataGenerator(\n",
    "    shear_range=0.2,    \n",
    "    width_shift_range=0.2,\n",
    "    height_shift_range=0.2,  \n",
    "    horizontal_flip=True,\n",
    "    vertical_flip=True)\n",
    "\n",
    "train_datagen.fit(X_train)\n",
    "\n",
    "# Note that the validation data should not be augmented!\n",
    "train_generator = train_datagen.flow(\n",
    "        X_train, y_train,\n",
    "        batch_size=BATCH_SIZE)"
   ]
  },
  {
   "cell_type": "code",
   "execution_count": 0,
   "metadata": {
    "colab": {},
    "colab_type": "code",
    "id": "eGEi8A-BIx1I"
   },
   "outputs": [],
   "source": [
    "# Recompile the model (to set lr after initial training on 1 batch)\n",
    "optimizer = keras.optimizers.Adam(learning_rate=0.001)\n",
    "model.compile(optimizer=optimizer,\n",
    "              loss='binary_crossentropy',\n",
    "              metrics=['accuracy'])\n",
    "\n",
    "# Train the whole model again\n",
    "EPOCH = 200\n",
    "history = model.fit(\n",
    "      train_generator,\n",
    "      steps_per_epoch=X_train.shape[0] / BATCH_SIZE,\n",
    "      epochs=EPOCH,\n",
    "      validation_data=(X_val, y_val), \n",
    "      callbacks=[checkpoint_callback, early_stopping_cb])   "
   ]
  },
  {
   "cell_type": "code",
   "execution_count": 18,
   "metadata": {
    "colab": {
     "base_uri": "https://localhost:8080/",
     "height": 386
    },
    "colab_type": "code",
    "executionInfo": {
     "elapsed": 2921,
     "status": "ok",
     "timestamp": 1587802871845,
     "user": {
      "displayName": "Long Luu",
      "photoUrl": "",
      "userId": "03414912596698907112"
     },
     "user_tz": 240
    },
    "id": "xBsWzP6bn_eh",
    "outputId": "0d4d429f-bbd0-4587-b349-ea0d9cdf6676"
   },
   "outputs": [
    {
     "data": {
      "image/png": "[encoded data removed]",
      "text/plain": [
       "<Figure size 1080x360 with 2 Axes>"
      ]
     },
     "metadata": {
      "needs_background": "light",
      "tags": []
     },
     "output_type": "display_data"
    },
    {
     "name": "stdout",
     "output_type": "stream",
     "text": [
      "time: 1.32 s\n"
     ]
    }
   ],
   "source": [
    "# Plot the history of training\n",
    "fig_save_path = \"/content/drive/My Drive/Train_figs/InceptionV3_method3\"\n",
    "plot_training(history)"
   ]
  },
  {
   "cell_type": "code",
   "execution_count": 0,
   "metadata": {
    "colab": {
     "base_uri": "https://localhost:8080/",
     "height": 50
    },
    "colab_type": "code",
    "executionInfo": {
     "elapsed": 5611,
     "status": "ok",
     "timestamp": 1587591039497,
     "user": {
      "displayName": "Long Luu",
      "photoUrl": "",
      "userId": "03414912596698907112"
     },
     "user_tz": 240
    },
    "id": "tzFMDLChEguW",
    "outputId": "8ad75d16-da5c-4bcc-877b-bab907cde7e6"
   },
   "outputs": [
    {
     "name": "stdout",
     "output_type": "stream",
     "text": [
      "Val accuracy: 95.8%\n",
      "time: 5.27 s\n"
     ]
    }
   ],
   "source": [
    "# Check the model on val data\n",
    "n_sample = 10000\n",
    "label_predict = model.predict(X_val_resize[:n_sample])\n",
    "label_predict = np.round(np.squeeze(label_predict))\n",
    "train_acc = sum(label_predict == y_val[:n_sample]) / len(y_val[:n_sample])\n",
    "print(\"Val accuracy: {:.1f}%\".format(train_acc*100))"
   ]
  },
  {
   "cell_type": "markdown",
   "metadata": {
    "colab_type": "text",
    "id": "QarRNeu7r7Ep"
   },
   "source": [
    "# Inception-ResNet-V2\n",
    "\n",
    "\n"
   ]
  },
  {
   "cell_type": "markdown",
   "metadata": {
    "colab_type": "text",
    "id": "r9cdhvErGkPr"
   },
   "source": [
    "## Method 1\n",
    "* Resize the data patches to match required input size of the model (at least 75x75)\n",
    "* Freeze up to layer 40\n",
    "* Add data augmentation\n",
    "* Batch size 512"
   ]
  },
  {
   "cell_type": "markdown",
   "metadata": {
    "colab_type": "text",
    "id": "y88acskXr7Er"
   },
   "source": [
    "### Load InceptionV3 and visualize the model"
   ]
  },
  {
   "cell_type": "code",
   "execution_count": 0,
   "metadata": {
    "colab": {
     "base_uri": "https://localhost:8080/",
     "height": 34
    },
    "colab_type": "code",
    "executionInfo": {
     "elapsed": 11678,
     "status": "ok",
     "timestamp": 1587647590638,
     "user": {
      "displayName": "Long Luu",
      "photoUrl": "",
      "userId": "03414912596698907112"
     },
     "user_tz": 240
    },
    "id": "MilcGG7Lr7Er",
    "outputId": "1b282ded-31eb-4b34-d6ba-9bc9ccd08f7f"
   },
   "outputs": [
    {
     "name": "stdout",
     "output_type": "stream",
     "text": [
      "time: 10.3 s\n"
     ]
    }
   ],
   "source": [
    "# Load the base model\n",
    "base_model = tf.keras.applications.InceptionResNetV2(input_shape=[75, 75, 3], include_top=False, weights='imagenet')\n"
   ]
  },
  {
   "cell_type": "code",
   "execution_count": 0,
   "metadata": {
    "colab": {},
    "colab_type": "code",
    "id": "hmAQoEqmFKtF"
   },
   "outputs": [],
   "source": [
    "base_model.summary()"
   ]
  },
  {
   "cell_type": "markdown",
   "metadata": {
    "colab_type": "text",
    "id": "PGPT1KS1r7Ev"
   },
   "source": [
    "### Resize the data and construct the model"
   ]
  },
  {
   "cell_type": "code",
   "execution_count": 0,
   "metadata": {
    "colab": {
     "base_uri": "https://localhost:8080/",
     "height": 34
    },
    "colab_type": "code",
    "executionInfo": {
     "elapsed": 7968,
     "status": "ok",
     "timestamp": 1587646590268,
     "user": {
      "displayName": "Long Luu",
      "photoUrl": "",
      "userId": "03414912596698907112"
     },
     "user_tz": 240
    },
    "id": "FfmRdzjar7Ew",
    "outputId": "1b95867d-0654-41c2-cf5b-02036e0fa645"
   },
   "outputs": [
    {
     "name": "stdout",
     "output_type": "stream",
     "text": [
      "time: 7.12 s\n"
     ]
    }
   ],
   "source": [
    "# Resize the data patches to match required input size of InceptionV3\n",
    "X_train_resize = tf.image.resize(\n",
    "                        X_train,\n",
    "                        [75, 75],\n",
    "                        method='bilinear',\n",
    "                        antialias=True)\n",
    "\n",
    "X_val_resize = tf.image.resize(\n",
    "                        X_val,\n",
    "                        [75, 75],\n",
    "                        method='bilinear',\n",
    "                        antialias=True)\n"
   ]
  },
  {
   "cell_type": "code",
   "execution_count": 0,
   "metadata": {
    "colab": {
     "base_uri": "https://localhost:8080/",
     "height": 34
    },
    "colab_type": "code",
    "executionInfo": {
     "elapsed": 8161,
     "status": "ok",
     "timestamp": 1587647598804,
     "user": {
      "displayName": "Long Luu",
      "photoUrl": "",
      "userId": "03414912596698907112"
     },
     "user_tz": 240
    },
    "id": "jnCIPMePr7Ez",
    "outputId": "57d7a6f0-b639-4909-e5df-5e0107b2317a"
   },
   "outputs": [
    {
     "name": "stdout",
     "output_type": "stream",
     "text": [
      "time: 6.98 s\n"
     ]
    }
   ],
   "source": [
    "# Freeze all weights\n",
    "base_model.trainable = False \n",
    "\n",
    "# Add last layers\n",
    "global_average_layer = tf.keras.layers.GlobalAveragePooling2D()\n",
    "prediction_layer = tf.keras.layers.Dense(1, activation='sigmoid')\n",
    "\n",
    "# Build a new model reusing the pretrained base\n",
    "model = tf.keras.Sequential([\n",
    "  base_model,\n",
    "  global_average_layer,\n",
    "  prediction_layer\n",
    "])\n",
    "\n",
    "# Compile the model\n",
    "early_stopping_cb = keras.callbacks.EarlyStopping(patience=50, restore_best_weights=True, monitor='val_loss')\n",
    "optimizer = keras.optimizers.Adam(learning_rate=0.005)\n",
    "model.compile(optimizer=optimizer,\n",
    "              loss='binary_crossentropy',\n",
    "              metrics=['accuracy'])"
   ]
  },
  {
   "cell_type": "code",
   "execution_count": 0,
   "metadata": {
    "colab": {},
    "colab_type": "code",
    "id": "xY0RPkcVr7E1"
   },
   "outputs": [],
   "source": [
    "# Check the model\n",
    "model.summary()"
   ]
  },
  {
   "cell_type": "markdown",
   "metadata": {
    "colab_type": "text",
    "id": "mdElVsv0r7E3"
   },
   "source": [
    "### Train the last layer first"
   ]
  },
  {
   "cell_type": "code",
   "execution_count": 0,
   "metadata": {
    "colab": {},
    "colab_type": "code",
    "id": "bJ_PXNkbr7E3"
   },
   "outputs": [],
   "source": [
    "# Train the last layer first\n",
    "EPOCH = 20\n",
    "BATCH_SIZE = 512\n",
    "history = model.fit(X_train_resize, y_train, validation_data=(X_val_resize, y_val), \n",
    "                    epochs=EPOCH, callbacks=[early_stopping_cb], batch_size=BATCH_SIZE)"
   ]
  },
  {
   "cell_type": "markdown",
   "metadata": {
    "colab_type": "text",
    "id": "DbJLLr7Rr7E5"
   },
   "source": [
    "### Unfreeze last layers and train the model again"
   ]
  },
  {
   "cell_type": "code",
   "execution_count": 0,
   "metadata": {
    "colab": {
     "base_uri": "https://localhost:8080/",
     "height": 50
    },
    "colab_type": "code",
    "executionInfo": {
     "elapsed": 1213,
     "status": "ok",
     "timestamp": 1587647055112,
     "user": {
      "displayName": "Long Luu",
      "photoUrl": "",
      "userId": "03414912596698907112"
     },
     "user_tz": 240
    },
    "id": "GlrIvEA1r7E5",
    "outputId": "a0b692cd-9a4b-477c-9189-4f03ba82b566"
   },
   "outputs": [
    {
     "name": "stdout",
     "output_type": "stream",
     "text": [
      "40:mixed_5b\n",
      "time: 4.89 ms\n"
     ]
    }
   ],
   "source": [
    "# Find the layer at which we will freeze\n",
    "layer_freeze = \"mixed_5b\"\n",
    "for index, layer in enumerate(base_model.layers):\n",
    "    if layer.name == layer_freeze:\n",
    "        print(str(index) + \":\" + str(layer.name))"
   ]
  },
  {
   "cell_type": "code",
   "execution_count": 0,
   "metadata": {
    "colab": {
     "base_uri": "https://localhost:8080/",
     "height": 34
    },
    "colab_type": "code",
    "executionInfo": {
     "elapsed": 1463,
     "status": "ok",
     "timestamp": 1587647938212,
     "user": {
      "displayName": "Long Luu",
      "photoUrl": "",
      "userId": "03414912596698907112"
     },
     "user_tz": 240
    },
    "id": "Lf_BOipOr7E7",
    "outputId": "1cb84d39-fee8-4448-ade1-7fbf74be89b1"
   },
   "outputs": [
    {
     "name": "stdout",
     "output_type": "stream",
     "text": [
      "time: 21.8 ms\n"
     ]
    }
   ],
   "source": [
    "# Unfreeze some layers\n",
    "model.trainable = True\n",
    "max_layer_freeze = 40\n",
    "for layer in base_model.layers[:max_layer_freeze]:\n",
    "  layer.trainable = False"
   ]
  },
  {
   "cell_type": "code",
   "execution_count": 0,
   "metadata": {
    "colab": {
     "base_uri": "https://localhost:8080/",
     "height": 67
    },
    "colab_type": "code",
    "executionInfo": {
     "elapsed": 1454,
     "status": "ok",
     "timestamp": 1587647938213,
     "user": {
      "displayName": "Long Luu",
      "photoUrl": "",
      "userId": "03414912596698907112"
     },
     "user_tz": 240
    },
    "id": "Ps5VOMQjr7E9",
    "outputId": "9a034b7b-9444-4216-a8b5-c85e5bd227e2"
   },
   "outputs": [
    {
     "name": "stdout",
     "output_type": "stream",
     "text": [
      "Checkpoints directory is /content/drive/My Drive/Checkpoints/InceptionResnetV3-DataAug-Freeze40\n",
      "Checkpoints folder already exists\n",
      "time: 5.13 ms\n"
     ]
    }
   ],
   "source": [
    "# Make checkpoint\n",
    "drive_root = '/content/drive/My Drive/'\n",
    "checkpoint_dir = os.path.join(drive_root, \"Checkpoints\", \"InceptionResnetV3-DataAug-Freeze40\")\n",
    "\n",
    "# Create checkpoint folder\n",
    "print(\"Checkpoints directory is\", checkpoint_dir)\n",
    "if os.path.exists(checkpoint_dir):\n",
    "  print(\"Checkpoints folder already exists\")\n",
    "else:\n",
    "  print(\"Creating a checkpoints directory\")\n",
    "  os.makedirs(checkpoint_dir)\n",
    "\n",
    "# Make checkpoint callbacks\n",
    "checkpoint_path = os.path.join(checkpoint_dir, \"best_model.hdf5\")\n",
    "checkpoint_callback = tf.keras.callbacks.ModelCheckpoint(\n",
    "                    filepath=checkpoint_path, monitor='val_loss', verbose=0, save_best_only=True,\n",
    "                    save_weights_only=False, mode='auto')\n"
   ]
  },
  {
   "cell_type": "code",
   "execution_count": 0,
   "metadata": {
    "colab": {
     "base_uri": "https://localhost:8080/",
     "height": 34
    },
    "colab_type": "code",
    "executionInfo": {
     "elapsed": 1959,
     "status": "ok",
     "timestamp": 1587647938727,
     "user": {
      "displayName": "Long Luu",
      "photoUrl": "",
      "userId": "03414912596698907112"
     },
     "user_tz": 240
    },
    "id": "4fsWns8Cr7FA",
    "outputId": "26f20a82-9b37-45ff-96aa-7a9950608ca0"
   },
   "outputs": [
    {
     "name": "stdout",
     "output_type": "stream",
     "text": [
      "time: 1.28 s\n"
     ]
    }
   ],
   "source": [
    "# Data augmentation\n",
    "from keras.preprocessing.image import ImageDataGenerator\n",
    "\n",
    "# Create the augmentation generator\n",
    "train_datagen = ImageDataGenerator(\n",
    "    shear_range=0.2,    \n",
    "    width_shift_range=0.2,\n",
    "    height_shift_range=0.2,  \n",
    "    horizontal_flip=True,\n",
    "    vertical_flip=True)\n",
    "\n",
    "train_datagen.fit(X_train_resize)\n",
    "\n",
    "# Note that the validation data should not be augmented!\n",
    "BATCH_SIZE = 512\n",
    "train_generator = train_datagen.flow(\n",
    "        X_train_resize, y_train,\n",
    "        batch_size=BATCH_SIZE)"
   ]
  },
  {
   "cell_type": "code",
   "execution_count": 0,
   "metadata": {
    "colab": {},
    "colab_type": "code",
    "id": "f2YUueyzr7FC"
   },
   "outputs": [],
   "source": [
    "# Recompile the model (to set lr after initial training on 1 batch)\n",
    "optimizer = keras.optimizers.Adam(learning_rate=0.002)\n",
    "model.compile(optimizer=optimizer,\n",
    "              loss='binary_crossentropy',\n",
    "              metrics=['accuracy'])\n",
    "\n",
    "# Train the whole model again\n",
    "EPOCH = 200\n",
    "history = model.fit(\n",
    "      train_generator,\n",
    "      steps_per_epoch=X_train_resize.shape[0] / BATCH_SIZE,\n",
    "      epochs=EPOCH,\n",
    "      validation_data=(X_val_resize, y_val), \n",
    "      callbacks=[checkpoint_callback, early_stopping_cb])   "
   ]
  },
  {
   "cell_type": "code",
   "execution_count": 0,
   "metadata": {
    "colab": {
     "base_uri": "https://localhost:8080/",
     "height": 386
    },
    "colab_type": "code",
    "executionInfo": {
     "elapsed": 2483,
     "status": "ok",
     "timestamp": 1587656057060,
     "user": {
      "displayName": "Long Luu",
      "photoUrl": "",
      "userId": "03414912596698907112"
     },
     "user_tz": 240
    },
    "id": "wpfOUIElr7FE",
    "outputId": "1acbe1e2-bdab-4733-f843-861da75fc6e1"
   },
   "outputs": [
    {
     "data": {
      "image/png": "[encoded data removed]",
      "text/plain": [
       "<Figure size 1080x360 with 2 Axes>"
      ]
     },
     "metadata": {
      "needs_background": "light",
      "tags": []
     },
     "output_type": "display_data"
    },
    {
     "name": "stdout",
     "output_type": "stream",
     "text": [
      "time: 1.26 s\n"
     ]
    }
   ],
   "source": [
    "fig_save_path = \"/content/drive/My Drive/Train_figs/InceptionResnetV3_method1\"\n",
    "plot_training(history)"
   ]
  }
 ],
 "metadata": {
  "accelerator": "GPU",
  "colab": {
   "collapsed_sections": [
    "S-2YALtORhPR",
    "Oqfb507nMU7j",
    "eyn4hWezJwqw",
    "iu7fyoXZNhWv",
    "CiwsP_dSKTIu",
    "Fa6HESjDorDC",
    "JJrGJbWKorDE",
    "O3XDzHPJorDK",
    "BYe83-J2orDU",
    "dVVgJVPPorDc",
    "QarRNeu7r7Ep",
    "r9cdhvErGkPr",
    "y88acskXr7Er",
    "PGPT1KS1r7Ev"
   ],
   "machine_shape": "hm",
   "name": "CancerDetection_model_training_1level_transfer.ipynb",
   "provenance": []
  },
  "kernelspec": {
   "display_name": "Python 3",
   "language": "python",
   "name": "python3"
  },
  "language_info": {
   "codemirror_mode": {
    "name": "ipython",
    "version": 3
   },
   "file_extension": ".py",
   "mimetype": "text/x-python",
   "name": "python",
   "nbconvert_exporter": "python",
   "pygments_lexer": "ipython3",
   "version": "3.7.3"
  }
 },
 "nbformat": 4,
 "nbformat_minor": 1
}
